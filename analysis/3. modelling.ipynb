{
 "cells": [
  {
   "cell_type": "markdown",
   "metadata": {},
   "source": [
    "# Modelling\n",
    "\n",
    " - Finding an appropriate prediction model for the preprocessed dataset.  \n",
    " - Using 10 fold cross validation in parallel.  \n",
    " - There is a slight class imbalance so we use roc_auc as a metric.\n",
    " - Grid search over multiple models and their hyper-parameters.\n",
    " - For simplicity restricting to LogReg, SVM and Random Forest.\n",
    " - Aim is not to get best score, but to showcase the approach."
   ]
  },
  {
   "cell_type": "code",
   "execution_count": 119,
   "metadata": {},
   "outputs": [
    {
     "name": "stdout",
     "output_type": "stream",
     "text": [
      "The autoreload extension is already loaded. To reload it, use:\n",
      "  %reload_ext autoreload\n"
     ]
    }
   ],
   "source": [
    "import sys\n",
    "import joblib\n",
    "import sklearn\n",
    "import warnings\n",
    "import itertools\n",
    "import numpy as np\n",
    "import pandas as pd\n",
    "import seaborn as sns\n",
    "import matplotlib.pyplot as plt\n",
    "\n",
    "from sklearn.base import BaseEstimator\n",
    "from sklearn.metrics import roc_auc_score\n",
    "from sklearn.model_selection import StratifiedKFold\n",
    "from sklearn.svm import SVC\n",
    "from sklearn.linear_model import LogisticRegression\n",
    "from sklearn.ensemble import RandomForestClassifier\n",
    "\n",
    "\n",
    "sys.path.append(\"../deployment/src/\")\n",
    "from preprocessor import Preprocessor\n",
    "\n",
    "% matplotlib inline\n",
    "% load_ext autoreload\n",
    "% autoreload 2\n",
    "\n",
    "sns.set_style(\"darkgrid\")\n",
    "warnings.filterwarnings('ignore')\n",
    "plt.rcParams[\"figure.figsize\"] = (10, 5)"
   ]
  },
  {
   "cell_type": "markdown",
   "metadata": {},
   "source": [
    "### 1. Loading Data"
   ]
  },
  {
   "cell_type": "code",
   "execution_count": 2,
   "metadata": {},
   "outputs": [
    {
     "data": {
      "text/html": [
       "<div>\n",
       "<style scoped>\n",
       "    .dataframe tbody tr th:only-of-type {\n",
       "        vertical-align: middle;\n",
       "    }\n",
       "\n",
       "    .dataframe tbody tr th {\n",
       "        vertical-align: top;\n",
       "    }\n",
       "\n",
       "    .dataframe thead th {\n",
       "        text-align: right;\n",
       "    }\n",
       "</style>\n",
       "<table border=\"1\" class=\"dataframe\">\n",
       "  <thead>\n",
       "    <tr style=\"text-align: right;\">\n",
       "      <th></th>\n",
       "      <th>survived</th>\n",
       "      <th>pclass</th>\n",
       "      <th>name</th>\n",
       "      <th>sex</th>\n",
       "      <th>age</th>\n",
       "      <th>sibsp</th>\n",
       "      <th>parch</th>\n",
       "      <th>ticket</th>\n",
       "      <th>fare</th>\n",
       "      <th>cabin</th>\n",
       "      <th>embarked</th>\n",
       "    </tr>\n",
       "  </thead>\n",
       "  <tbody>\n",
       "    <tr>\n",
       "      <th>0</th>\n",
       "      <td>0</td>\n",
       "      <td>3</td>\n",
       "      <td>Braund, Mr. Owen Harris</td>\n",
       "      <td>male</td>\n",
       "      <td>22.0</td>\n",
       "      <td>1</td>\n",
       "      <td>0</td>\n",
       "      <td>A/5 21171</td>\n",
       "      <td>7.2500</td>\n",
       "      <td>NaN</td>\n",
       "      <td>S</td>\n",
       "    </tr>\n",
       "    <tr>\n",
       "      <th>1</th>\n",
       "      <td>1</td>\n",
       "      <td>1</td>\n",
       "      <td>Cumings, Mrs. John Bradley (Florence Briggs Th...</td>\n",
       "      <td>female</td>\n",
       "      <td>38.0</td>\n",
       "      <td>1</td>\n",
       "      <td>0</td>\n",
       "      <td>PC 17599</td>\n",
       "      <td>71.2833</td>\n",
       "      <td>C85</td>\n",
       "      <td>C</td>\n",
       "    </tr>\n",
       "    <tr>\n",
       "      <th>2</th>\n",
       "      <td>1</td>\n",
       "      <td>3</td>\n",
       "      <td>Heikkinen, Miss. Laina</td>\n",
       "      <td>female</td>\n",
       "      <td>26.0</td>\n",
       "      <td>0</td>\n",
       "      <td>0</td>\n",
       "      <td>STON/O2. 3101282</td>\n",
       "      <td>7.9250</td>\n",
       "      <td>NaN</td>\n",
       "      <td>S</td>\n",
       "    </tr>\n",
       "    <tr>\n",
       "      <th>3</th>\n",
       "      <td>1</td>\n",
       "      <td>1</td>\n",
       "      <td>Futrelle, Mrs. Jacques Heath (Lily May Peel)</td>\n",
       "      <td>female</td>\n",
       "      <td>35.0</td>\n",
       "      <td>1</td>\n",
       "      <td>0</td>\n",
       "      <td>113803</td>\n",
       "      <td>53.1000</td>\n",
       "      <td>C123</td>\n",
       "      <td>S</td>\n",
       "    </tr>\n",
       "    <tr>\n",
       "      <th>4</th>\n",
       "      <td>0</td>\n",
       "      <td>3</td>\n",
       "      <td>Allen, Mr. William Henry</td>\n",
       "      <td>male</td>\n",
       "      <td>35.0</td>\n",
       "      <td>0</td>\n",
       "      <td>0</td>\n",
       "      <td>373450</td>\n",
       "      <td>8.0500</td>\n",
       "      <td>NaN</td>\n",
       "      <td>S</td>\n",
       "    </tr>\n",
       "  </tbody>\n",
       "</table>\n",
       "</div>"
      ],
      "text/plain": [
       "   survived  pclass                                               name  \\\n",
       "0         0       3                            Braund, Mr. Owen Harris   \n",
       "1         1       1  Cumings, Mrs. John Bradley (Florence Briggs Th...   \n",
       "2         1       3                             Heikkinen, Miss. Laina   \n",
       "3         1       1       Futrelle, Mrs. Jacques Heath (Lily May Peel)   \n",
       "4         0       3                           Allen, Mr. William Henry   \n",
       "\n",
       "      sex   age  sibsp  parch            ticket     fare cabin embarked  \n",
       "0    male  22.0      1      0         A/5 21171   7.2500   NaN        S  \n",
       "1  female  38.0      1      0          PC 17599  71.2833   C85        C  \n",
       "2  female  26.0      0      0  STON/O2. 3101282   7.9250   NaN        S  \n",
       "3  female  35.0      1      0            113803  53.1000  C123        S  \n",
       "4    male  35.0      0      0            373450   8.0500   NaN        S  "
      ]
     },
     "execution_count": 2,
     "metadata": {},
     "output_type": "execute_result"
    }
   ],
   "source": [
    "raw = pd.read_csv(\"../data/titanic.csv\")\n",
    "raw.head()"
   ]
  },
  {
   "cell_type": "markdown",
   "metadata": {},
   "source": [
    "### 2. Eval Tools\n",
    "- Build the functions to help evaluate, summarize the resutls and do a hyper parameter search."
   ]
  },
  {
   "cell_type": "code",
   "execution_count": 130,
   "metadata": {},
   "outputs": [],
   "source": [
    "def _eval(model: BaseEstimator, train_df: pd.DataFrame, val_df: pd.DataFrame) -> (float, float):\n",
    "    \"\"\"\n",
    "    Evaluate a model on a single split.\n",
    "    :return: roc_auc for train and val set.\n",
    "    \"\"\"\n",
    "    preprocessor = Preprocessor()\n",
    "    train_df = preprocessor.fit_transform(train_df)\n",
    "    val_df = preprocessor.transform(val_df)\n",
    "\n",
    "    model.fit(train_df.drop(\"survived\", axis=1), train_df[\"survived\"])\n",
    "    train_preds = model.predict_proba(train_df.drop(\"survived\", axis=1))[:,1]\n",
    "    train_score = roc_auc_score(train_df[\"survived\"], train_preds)\n",
    "    val_preds = model.predict_proba(val_df.drop(\"survived\", axis=1))[:,1]\n",
    "    val_score = roc_auc_score(val_df[\"survived\"], val_preds)\n",
    "    return train_score, val_score\n",
    "\n",
    "\n",
    "def evaluate_model(model_name: str, model: BaseEstimator, raw_df: pd.DataFrame) -> pd.DataFrame:\n",
    "    \"\"\"\n",
    "    Evaluate a model on a 10 fold cv in parallel.\n",
    "    Data is preprocessed accordingly and a summary df is created with mean and std of scores (roc_auc)\n",
    "    \"\"\"\n",
    "    \n",
    "    train_errs = []\n",
    "    val_errs = []\n",
    "    \n",
    "    cv = StratifiedKFold(n_splits=10)\n",
    "    folds = [(raw_df.loc[train_ix], raw_df.loc[val_ix]) \n",
    "             for train_ix, val_ix in cv.split(raw_df, raw_df[\"survived\"])]\n",
    "             \n",
    "    parallel = joblib.Parallel(n_jobs=-1, backend=\"multiprocessing\")\n",
    "    scores = parallel(joblib.delayed(_eval)(model, train_df, val_df) \n",
    "                      for train_df, val_df in folds)\n",
    "    \n",
    "    train_scores = [score[0] for score in scores]\n",
    "    val_scores = [score[1] for score in scores]\n",
    "    return summary(model_name, train_scores, val_scores)\n",
    "\n",
    "\n",
    "def summary(model_name: str, train_scores: list, val_scores: list) -> pd.DataFrame:\n",
    "    \"\"\"\n",
    "    Summarize the train and validation scores for a given module.\n",
    "    \"\"\"\n",
    "    return pd.DataFrame([{\n",
    "        \"train_mean\": np.mean(train_scores),\n",
    "        \"train_std\": np.std(train_scores),\n",
    "        \"val_mean\": np.mean(val_scores),\n",
    "        \"val_std\": np.std(val_scores),\n",
    "    }], index=[model_name])\n",
    "\n",
    "\n",
    "def create_grid(model_cls: type, **kwargs) -> pd.DataFrame:\n",
    "    \"\"\"\n",
    "    Create a \"grid\" aka cartesian product of all variables past as kwargs (lists).\n",
    "    Output as a DataFrame with 2 colummns: name of model (str), instantiated model to be fit.\n",
    "    \"\"\"\n",
    "    names = []\n",
    "    models = []\n",
    "    for element in itertools.product(*kwargs.values()):\n",
    "        keys = list(kwargs.keys())\n",
    "        params = {keys[i]: element[i] for i in range(len(kwargs))}\n",
    "        names.append(model_cls.__name__ + str(params))\n",
    "        models.append(model_cls(**params))\n",
    "    return pd.DataFrame({\"name\": names, \"model\": models})\n",
    "\n",
    "\n",
    "def evaluate_all(grid: pd.DataFrame, data: pd.DataFrame) -> pd.DataFrame:\n",
    "    \"\"\"\n",
    "    Evaluate all configurations found in the grid dataframe.\n",
    "    :return: a DataFrame of summaries\n",
    "    \"\"\"\n",
    "    parallel = joblib.Parallel(n_jobs=-1, backend=\"multiprocessing\")\n",
    "    res = parallel(joblib.delayed(evaluate_model)(model_name=row[\"name\"], model=row[\"model\"], raw_df=data) for ix, row in grid.iterrows())\n",
    "    return pd.concat(res, axis=0)"
   ]
  },
  {
   "cell_type": "markdown",
   "metadata": {},
   "source": [
    "### 3. Build Grid\n",
    "- Build a list of all possible hyperparameter configurations for each model."
   ]
  },
  {
   "cell_type": "code",
   "execution_count": 152,
   "metadata": {},
   "outputs": [
    {
     "name": "stdout",
     "output_type": "stream",
     "text": [
      "n_models: 8\n"
     ]
    },
    {
     "data": {
      "text/html": [
       "<div>\n",
       "<style scoped>\n",
       "    .dataframe tbody tr th:only-of-type {\n",
       "        vertical-align: middle;\n",
       "    }\n",
       "\n",
       "    .dataframe tbody tr th {\n",
       "        vertical-align: top;\n",
       "    }\n",
       "\n",
       "    .dataframe thead th {\n",
       "        text-align: right;\n",
       "    }\n",
       "</style>\n",
       "<table border=\"1\" class=\"dataframe\">\n",
       "  <thead>\n",
       "    <tr style=\"text-align: right;\">\n",
       "      <th></th>\n",
       "      <th>model</th>\n",
       "      <th>name</th>\n",
       "    </tr>\n",
       "  </thead>\n",
       "  <tbody>\n",
       "    <tr>\n",
       "      <th>0</th>\n",
       "      <td>LogisticRegression(C=0.01, class_weight=None, ...</td>\n",
       "      <td>LogisticRegression{'C': 0.01, 'penalty': 'l1'}</td>\n",
       "    </tr>\n",
       "    <tr>\n",
       "      <th>1</th>\n",
       "      <td>LogisticRegression(C=0.01, class_weight=None, ...</td>\n",
       "      <td>LogisticRegression{'C': 0.01, 'penalty': 'l2'}</td>\n",
       "    </tr>\n",
       "    <tr>\n",
       "      <th>2</th>\n",
       "      <td>LogisticRegression(C=0.1, class_weight=None, d...</td>\n",
       "      <td>LogisticRegression{'C': 0.1, 'penalty': 'l1'}</td>\n",
       "    </tr>\n",
       "    <tr>\n",
       "      <th>3</th>\n",
       "      <td>LogisticRegression(C=0.1, class_weight=None, d...</td>\n",
       "      <td>LogisticRegression{'C': 0.1, 'penalty': 'l2'}</td>\n",
       "    </tr>\n",
       "    <tr>\n",
       "      <th>4</th>\n",
       "      <td>LogisticRegression(C=1, class_weight=None, dua...</td>\n",
       "      <td>LogisticRegression{'C': 1, 'penalty': 'l1'}</td>\n",
       "    </tr>\n",
       "  </tbody>\n",
       "</table>\n",
       "</div>"
      ],
      "text/plain": [
       "                                               model  \\\n",
       "0  LogisticRegression(C=0.01, class_weight=None, ...   \n",
       "1  LogisticRegression(C=0.01, class_weight=None, ...   \n",
       "2  LogisticRegression(C=0.1, class_weight=None, d...   \n",
       "3  LogisticRegression(C=0.1, class_weight=None, d...   \n",
       "4  LogisticRegression(C=1, class_weight=None, dua...   \n",
       "\n",
       "                                             name  \n",
       "0  LogisticRegression{'C': 0.01, 'penalty': 'l1'}  \n",
       "1  LogisticRegression{'C': 0.01, 'penalty': 'l2'}  \n",
       "2   LogisticRegression{'C': 0.1, 'penalty': 'l1'}  \n",
       "3   LogisticRegression{'C': 0.1, 'penalty': 'l2'}  \n",
       "4     LogisticRegression{'C': 1, 'penalty': 'l1'}  "
      ]
     },
     "execution_count": 152,
     "metadata": {},
     "output_type": "execute_result"
    }
   ],
   "source": [
    "# Logistic Regression\n",
    "\n",
    "logistic_grid = create_grid(LogisticRegression, C=[10**i for i in range(-2, 2)], \n",
    "                                                penalty=[\"l1\", \"l2\"])\n",
    "print(\"n_models:\", len(logistic_grid))\n",
    "logistic_grid.head()"
   ]
  },
  {
   "cell_type": "code",
   "execution_count": 153,
   "metadata": {},
   "outputs": [
    {
     "name": "stdout",
     "output_type": "stream",
     "text": [
      "n_models: 60\n"
     ]
    },
    {
     "data": {
      "text/html": [
       "<div>\n",
       "<style scoped>\n",
       "    .dataframe tbody tr th:only-of-type {\n",
       "        vertical-align: middle;\n",
       "    }\n",
       "\n",
       "    .dataframe tbody tr th {\n",
       "        vertical-align: top;\n",
       "    }\n",
       "\n",
       "    .dataframe thead th {\n",
       "        text-align: right;\n",
       "    }\n",
       "</style>\n",
       "<table border=\"1\" class=\"dataframe\">\n",
       "  <thead>\n",
       "    <tr style=\"text-align: right;\">\n",
       "      <th></th>\n",
       "      <th>model</th>\n",
       "      <th>name</th>\n",
       "    </tr>\n",
       "  </thead>\n",
       "  <tbody>\n",
       "    <tr>\n",
       "      <th>0</th>\n",
       "      <td>SVC(C=0.01, cache_size=200, class_weight=None,...</td>\n",
       "      <td>SVC{'C': 0.01, 'kernel': 'poly', 'gamma': 0.00...</td>\n",
       "    </tr>\n",
       "    <tr>\n",
       "      <th>1</th>\n",
       "      <td>SVC(C=0.01, cache_size=200, class_weight=None,...</td>\n",
       "      <td>SVC{'C': 0.01, 'kernel': 'poly', 'gamma': 0.01...</td>\n",
       "    </tr>\n",
       "    <tr>\n",
       "      <th>2</th>\n",
       "      <td>SVC(C=0.01, cache_size=200, class_weight=None,...</td>\n",
       "      <td>SVC{'C': 0.01, 'kernel': 'poly', 'gamma': 0.1,...</td>\n",
       "    </tr>\n",
       "    <tr>\n",
       "      <th>3</th>\n",
       "      <td>SVC(C=0.01, cache_size=200, class_weight=None,...</td>\n",
       "      <td>SVC{'C': 0.01, 'kernel': 'poly', 'gamma': 1, '...</td>\n",
       "    </tr>\n",
       "    <tr>\n",
       "      <th>4</th>\n",
       "      <td>SVC(C=0.01, cache_size=200, class_weight=None,...</td>\n",
       "      <td>SVC{'C': 0.01, 'kernel': 'poly', 'gamma': 10, ...</td>\n",
       "    </tr>\n",
       "  </tbody>\n",
       "</table>\n",
       "</div>"
      ],
      "text/plain": [
       "                                               model  \\\n",
       "0  SVC(C=0.01, cache_size=200, class_weight=None,...   \n",
       "1  SVC(C=0.01, cache_size=200, class_weight=None,...   \n",
       "2  SVC(C=0.01, cache_size=200, class_weight=None,...   \n",
       "3  SVC(C=0.01, cache_size=200, class_weight=None,...   \n",
       "4  SVC(C=0.01, cache_size=200, class_weight=None,...   \n",
       "\n",
       "                                                name  \n",
       "0  SVC{'C': 0.01, 'kernel': 'poly', 'gamma': 0.00...  \n",
       "1  SVC{'C': 0.01, 'kernel': 'poly', 'gamma': 0.01...  \n",
       "2  SVC{'C': 0.01, 'kernel': 'poly', 'gamma': 0.1,...  \n",
       "3  SVC{'C': 0.01, 'kernel': 'poly', 'gamma': 1, '...  \n",
       "4  SVC{'C': 0.01, 'kernel': 'poly', 'gamma': 10, ...  "
      ]
     },
     "execution_count": 153,
     "metadata": {},
     "output_type": "execute_result"
    }
   ],
   "source": [
    "# SVM\n",
    "\n",
    "svm_grid = create_grid(SVC, C=[10**i for i in range(-2, 2)], \n",
    "                            kernel=[\"poly\", \"rbf\", \"linear\"], \n",
    "                            gamma=[10**i for i in range(-3, 2)], \n",
    "                            probability=[True])\n",
    "print(\"n_models:\", len(svm_grid))\n",
    "svm_grid.head()"
   ]
  },
  {
   "cell_type": "code",
   "execution_count": 154,
   "metadata": {},
   "outputs": [
    {
     "name": "stdout",
     "output_type": "stream",
     "text": [
      "n_models: 150\n"
     ]
    },
    {
     "data": {
      "text/html": [
       "<div>\n",
       "<style scoped>\n",
       "    .dataframe tbody tr th:only-of-type {\n",
       "        vertical-align: middle;\n",
       "    }\n",
       "\n",
       "    .dataframe tbody tr th {\n",
       "        vertical-align: top;\n",
       "    }\n",
       "\n",
       "    .dataframe thead th {\n",
       "        text-align: right;\n",
       "    }\n",
       "</style>\n",
       "<table border=\"1\" class=\"dataframe\">\n",
       "  <thead>\n",
       "    <tr style=\"text-align: right;\">\n",
       "      <th></th>\n",
       "      <th>model</th>\n",
       "      <th>name</th>\n",
       "    </tr>\n",
       "  </thead>\n",
       "  <tbody>\n",
       "    <tr>\n",
       "      <th>0</th>\n",
       "      <td>()</td>\n",
       "      <td>RandomForestClassifier{'n_estimators': 10, 'ma...</td>\n",
       "    </tr>\n",
       "    <tr>\n",
       "      <th>1</th>\n",
       "      <td>()</td>\n",
       "      <td>RandomForestClassifier{'n_estimators': 10, 'ma...</td>\n",
       "    </tr>\n",
       "    <tr>\n",
       "      <th>2</th>\n",
       "      <td>()</td>\n",
       "      <td>RandomForestClassifier{'n_estimators': 10, 'ma...</td>\n",
       "    </tr>\n",
       "    <tr>\n",
       "      <th>3</th>\n",
       "      <td>()</td>\n",
       "      <td>RandomForestClassifier{'n_estimators': 10, 'ma...</td>\n",
       "    </tr>\n",
       "    <tr>\n",
       "      <th>4</th>\n",
       "      <td>()</td>\n",
       "      <td>RandomForestClassifier{'n_estimators': 10, 'ma...</td>\n",
       "    </tr>\n",
       "  </tbody>\n",
       "</table>\n",
       "</div>"
      ],
      "text/plain": [
       "  model                                               name\n",
       "0    ()  RandomForestClassifier{'n_estimators': 10, 'ma...\n",
       "1    ()  RandomForestClassifier{'n_estimators': 10, 'ma...\n",
       "2    ()  RandomForestClassifier{'n_estimators': 10, 'ma...\n",
       "3    ()  RandomForestClassifier{'n_estimators': 10, 'ma...\n",
       "4    ()  RandomForestClassifier{'n_estimators': 10, 'ma..."
      ]
     },
     "execution_count": 154,
     "metadata": {},
     "output_type": "execute_result"
    }
   ],
   "source": [
    "# Random Forest\n",
    "\n",
    "forest_grid = create_grid(RandomForestClassifier, n_estimators=[10*i for i in range(1, 11)], max_depth=range(3,6), min_samples_leaf=range(1, 11, 2))\n",
    "print(\"n_models:\", len(forest_grid))\n",
    "forest_grid.head()"
   ]
  },
  {
   "cell_type": "code",
   "execution_count": 156,
   "metadata": {},
   "outputs": [
    {
     "name": "stdout",
     "output_type": "stream",
     "text": [
      "n_models: 218\n"
     ]
    }
   ],
   "source": [
    "# Final Grid\n",
    "\n",
    "all_grid = pd.concat([logistic_grid, svm_grid, forest_grid], axis=0)\n",
    "print(\"n_models:\", len(all_grid))"
   ]
  },
  {
   "cell_type": "markdown",
   "metadata": {},
   "source": [
    "### 4. Grid Search\n",
    "- Evaluate all models for each configuration in the grid.\n",
    "- In practice a more careful analysis of hyperparams should be performed."
   ]
  },
  {
   "cell_type": "code",
   "execution_count": 157,
   "metadata": {},
   "outputs": [
    {
     "data": {
      "text/html": [
       "<div>\n",
       "<style scoped>\n",
       "    .dataframe tbody tr th:only-of-type {\n",
       "        vertical-align: middle;\n",
       "    }\n",
       "\n",
       "    .dataframe tbody tr th {\n",
       "        vertical-align: top;\n",
       "    }\n",
       "\n",
       "    .dataframe thead th {\n",
       "        text-align: right;\n",
       "    }\n",
       "</style>\n",
       "<table border=\"1\" class=\"dataframe\">\n",
       "  <thead>\n",
       "    <tr style=\"text-align: right;\">\n",
       "      <th></th>\n",
       "      <th>train_mean</th>\n",
       "      <th>train_std</th>\n",
       "      <th>val_mean</th>\n",
       "      <th>val_std</th>\n",
       "    </tr>\n",
       "  </thead>\n",
       "  <tbody>\n",
       "    <tr>\n",
       "      <th>RandomForestClassifier{'n_estimators': 50, 'max_depth': 5, 'min_samples_leaf': 1}</th>\n",
       "      <td>0.913639</td>\n",
       "      <td>0.004047</td>\n",
       "      <td>0.871868</td>\n",
       "      <td>0.035366</td>\n",
       "    </tr>\n",
       "    <tr>\n",
       "      <th>RandomForestClassifier{'n_estimators': 90, 'max_depth': 5, 'min_samples_leaf': 1}</th>\n",
       "      <td>0.914926</td>\n",
       "      <td>0.004784</td>\n",
       "      <td>0.869822</td>\n",
       "      <td>0.037582</td>\n",
       "    </tr>\n",
       "    <tr>\n",
       "      <th>RandomForestClassifier{'n_estimators': 40, 'max_depth': 5, 'min_samples_leaf': 3}</th>\n",
       "      <td>0.907931</td>\n",
       "      <td>0.005689</td>\n",
       "      <td>0.869734</td>\n",
       "      <td>0.039150</td>\n",
       "    </tr>\n",
       "    <tr>\n",
       "      <th>RandomForestClassifier{'n_estimators': 70, 'max_depth': 5, 'min_samples_leaf': 1}</th>\n",
       "      <td>0.914000</td>\n",
       "      <td>0.004219</td>\n",
       "      <td>0.868842</td>\n",
       "      <td>0.038120</td>\n",
       "    </tr>\n",
       "    <tr>\n",
       "      <th>RandomForestClassifier{'n_estimators': 20, 'max_depth': 5, 'min_samples_leaf': 1}</th>\n",
       "      <td>0.911295</td>\n",
       "      <td>0.004463</td>\n",
       "      <td>0.868653</td>\n",
       "      <td>0.036818</td>\n",
       "    </tr>\n",
       "  </tbody>\n",
       "</table>\n",
       "</div>"
      ],
      "text/plain": [
       "                                                    train_mean  train_std  \\\n",
       "RandomForestClassifier{'n_estimators': 50, 'max...    0.913639   0.004047   \n",
       "RandomForestClassifier{'n_estimators': 90, 'max...    0.914926   0.004784   \n",
       "RandomForestClassifier{'n_estimators': 40, 'max...    0.907931   0.005689   \n",
       "RandomForestClassifier{'n_estimators': 70, 'max...    0.914000   0.004219   \n",
       "RandomForestClassifier{'n_estimators': 20, 'max...    0.911295   0.004463   \n",
       "\n",
       "                                                    val_mean   val_std  \n",
       "RandomForestClassifier{'n_estimators': 50, 'max...  0.871868  0.035366  \n",
       "RandomForestClassifier{'n_estimators': 90, 'max...  0.869822  0.037582  \n",
       "RandomForestClassifier{'n_estimators': 40, 'max...  0.869734  0.039150  \n",
       "RandomForestClassifier{'n_estimators': 70, 'max...  0.868842  0.038120  \n",
       "RandomForestClassifier{'n_estimators': 20, 'max...  0.868653  0.036818  "
      ]
     },
     "execution_count": 157,
     "metadata": {},
     "output_type": "execute_result"
    }
   ],
   "source": [
    "res = evaluate_all(all_grid, raw)\n",
    "res = res.sort_values(by=[\"val_mean\", \"val_std\"], ascending=[False, True])\n",
    "res.head()"
   ]
  },
  {
   "cell_type": "code",
   "execution_count": 182,
   "metadata": {},
   "outputs": [
    {
     "data": {
      "text/plain": [
       "LogisticRegression        0.853492\n",
       "RandomForestClassifier    0.871868\n",
       "SVC                       0.852999\n",
       "Name: val_mean, dtype: float64"
      ]
     },
     "execution_count": 182,
     "metadata": {},
     "output_type": "execute_result"
    }
   ],
   "source": [
    "# Compare best results\n",
    "\n",
    "classifier = np.vstack(res.index.str.split(\"{\").values)[: ,0]\n",
    "res.groupby(classifier)[\"val_mean\"].max()"
   ]
  },
  {
   "cell_type": "markdown",
   "metadata": {},
   "source": [
    "### 5. Select and Save Best Model\n",
    "- Include saving the processor.\n",
    "- Not much difference in performacne, in practice would choose lin reg.\n",
    "- Pikle best model and test loading works."
   ]
  },
  {
   "cell_type": "code",
   "execution_count": 190,
   "metadata": {},
   "outputs": [
    {
     "name": "stdout",
     "output_type": "stream",
     "text": [
      "Final train score: 0.9079\n"
     ]
    }
   ],
   "source": [
    "preprocessor = Preprocessor()\n",
    "train_df = preprocessor.fit_transform(raw)\n",
    "best_model_str = res.index[0].split(\"{\")\n",
    "best_model = eval(best_model_str[0] + \"(**{\" + best_model_str[1] + \")\")\n",
    "best_model.fit(train_df.drop(\"survived\", axis=1), train_df[\"survived\"])\n",
    "\n",
    "train_preds = best_model.predict_proba(train_df.drop(\"survived\", axis=1))[:,1]\n",
    "train_score = roc_auc_score(train_df[\"survived\"], train_preds)\n",
    "\n",
    "joblib.dump(preprocessor, '../deployment/pkl/preprocessor.pkl')\n",
    "joblib.dump(best_model, '../deployment/pkl/model.pkl') \n",
    "\n",
    "print(\"Final train score: {:.4f}\".format(train_score))"
   ]
  },
  {
   "cell_type": "code",
   "execution_count": 191,
   "metadata": {},
   "outputs": [
    {
     "name": "stdout",
     "output_type": "stream",
     "text": [
      "Final train score: 0.9079\n"
     ]
    }
   ],
   "source": [
    "# Test loading\n",
    "\n",
    "l_proc = joblib.load('../deployment/pkl/preprocessor.pkl')\n",
    "l_model = joblib.load('../deployment/pkl/model.pkl') \n",
    "\n",
    "t_df = l_proc.transform(raw)\n",
    "t_preds = l_model.predict_proba(t_df.drop(\"survived\", axis=1))[:,1]\n",
    "t_score = roc_auc_score(t_df[\"survived\"], t_preds)\n",
    "\n",
    "print(\"Final train score: {:.4f}\".format(t_score))"
   ]
  }
 ],
 "metadata": {
  "kernelspec": {
   "display_name": "Python 3",
   "language": "python",
   "name": "python3"
  },
  "language_info": {
   "codemirror_mode": {
    "name": "ipython",
    "version": 3
   },
   "file_extension": ".py",
   "mimetype": "text/x-python",
   "name": "python",
   "nbconvert_exporter": "python",
   "pygments_lexer": "ipython3",
   "version": "3.6.5"
  }
 },
 "nbformat": 4,
 "nbformat_minor": 2
}
